{
 "cells": [
  {
   "cell_type": "markdown",
   "id": "75e253f2",
   "metadata": {},
   "source": [
    "# Population and Murder Rates example"
   ]
  },
  {
   "cell_type": "code",
   "execution_count": 513,
   "id": "5871aa5b",
   "metadata": {},
   "outputs": [],
   "source": [
    "import numpy as np\n",
    "import pandas as pd\n",
    "import matplotlib.pyplot as plt\n",
    "import seaborn as sns\n",
    "import scipy.stats as stats"
   ]
  },
  {
   "cell_type": "code",
   "execution_count": 514,
   "id": "717d0fc2",
   "metadata": {},
   "outputs": [],
   "source": [
    "mydata = pd.read_csv(\"/Users/User/Desktop/Hands on machine learning/R statistics/data/state.csv\")"
   ]
  },
  {
   "cell_type": "code",
   "execution_count": 515,
   "id": "bf1d3996",
   "metadata": {},
   "outputs": [
    {
     "data": {
      "text/html": [
       "<div>\n",
       "<style scoped>\n",
       "    .dataframe tbody tr th:only-of-type {\n",
       "        vertical-align: middle;\n",
       "    }\n",
       "\n",
       "    .dataframe tbody tr th {\n",
       "        vertical-align: top;\n",
       "    }\n",
       "\n",
       "    .dataframe thead th {\n",
       "        text-align: right;\n",
       "    }\n",
       "</style>\n",
       "<table border=\"1\" class=\"dataframe\">\n",
       "  <thead>\n",
       "    <tr style=\"text-align: right;\">\n",
       "      <th></th>\n",
       "      <th>State</th>\n",
       "      <th>Population</th>\n",
       "      <th>Murder.Rate</th>\n",
       "      <th>Abbreviation</th>\n",
       "    </tr>\n",
       "  </thead>\n",
       "  <tbody>\n",
       "    <tr>\n",
       "      <th>0</th>\n",
       "      <td>Alabama</td>\n",
       "      <td>4779736</td>\n",
       "      <td>5.7</td>\n",
       "      <td>AL</td>\n",
       "    </tr>\n",
       "    <tr>\n",
       "      <th>1</th>\n",
       "      <td>Alaska</td>\n",
       "      <td>710231</td>\n",
       "      <td>5.6</td>\n",
       "      <td>AK</td>\n",
       "    </tr>\n",
       "    <tr>\n",
       "      <th>2</th>\n",
       "      <td>Arizona</td>\n",
       "      <td>6392017</td>\n",
       "      <td>4.7</td>\n",
       "      <td>AZ</td>\n",
       "    </tr>\n",
       "    <tr>\n",
       "      <th>3</th>\n",
       "      <td>Arkansas</td>\n",
       "      <td>2915918</td>\n",
       "      <td>5.6</td>\n",
       "      <td>AR</td>\n",
       "    </tr>\n",
       "    <tr>\n",
       "      <th>4</th>\n",
       "      <td>California</td>\n",
       "      <td>37253956</td>\n",
       "      <td>4.4</td>\n",
       "      <td>CA</td>\n",
       "    </tr>\n",
       "  </tbody>\n",
       "</table>\n",
       "</div>"
      ],
      "text/plain": [
       "        State  Population  Murder.Rate Abbreviation\n",
       "0     Alabama     4779736          5.7           AL\n",
       "1      Alaska      710231          5.6           AK\n",
       "2     Arizona     6392017          4.7           AZ\n",
       "3    Arkansas     2915918          5.6           AR\n",
       "4  California    37253956          4.4           CA"
      ]
     },
     "execution_count": 515,
     "metadata": {},
     "output_type": "execute_result"
    }
   ],
   "source": [
    "mydata.head()"
   ]
  },
  {
   "cell_type": "code",
   "execution_count": 516,
   "id": "34cc36a0",
   "metadata": {},
   "outputs": [
    {
     "data": {
      "text/html": [
       "<div>\n",
       "<style scoped>\n",
       "    .dataframe tbody tr th:only-of-type {\n",
       "        vertical-align: middle;\n",
       "    }\n",
       "\n",
       "    .dataframe tbody tr th {\n",
       "        vertical-align: top;\n",
       "    }\n",
       "\n",
       "    .dataframe thead th {\n",
       "        text-align: right;\n",
       "    }\n",
       "</style>\n",
       "<table border=\"1\" class=\"dataframe\">\n",
       "  <thead>\n",
       "    <tr style=\"text-align: right;\">\n",
       "      <th></th>\n",
       "      <th>State</th>\n",
       "      <th>Population</th>\n",
       "      <th>Murder.Rate</th>\n",
       "      <th>Abbreviation</th>\n",
       "      <th>LogPop</th>\n",
       "    </tr>\n",
       "  </thead>\n",
       "  <tbody>\n",
       "    <tr>\n",
       "      <th>0</th>\n",
       "      <td>Alabama</td>\n",
       "      <td>4779736</td>\n",
       "      <td>5.7</td>\n",
       "      <td>AL</td>\n",
       "      <td>15.379896</td>\n",
       "    </tr>\n",
       "    <tr>\n",
       "      <th>1</th>\n",
       "      <td>Alaska</td>\n",
       "      <td>710231</td>\n",
       "      <td>5.6</td>\n",
       "      <td>AK</td>\n",
       "      <td>13.473346</td>\n",
       "    </tr>\n",
       "    <tr>\n",
       "      <th>2</th>\n",
       "      <td>Arizona</td>\n",
       "      <td>6392017</td>\n",
       "      <td>4.7</td>\n",
       "      <td>AZ</td>\n",
       "      <td>15.670560</td>\n",
       "    </tr>\n",
       "    <tr>\n",
       "      <th>3</th>\n",
       "      <td>Arkansas</td>\n",
       "      <td>2915918</td>\n",
       "      <td>5.6</td>\n",
       "      <td>AR</td>\n",
       "      <td>14.885695</td>\n",
       "    </tr>\n",
       "    <tr>\n",
       "      <th>4</th>\n",
       "      <td>California</td>\n",
       "      <td>37253956</td>\n",
       "      <td>4.4</td>\n",
       "      <td>CA</td>\n",
       "      <td>17.433269</td>\n",
       "    </tr>\n",
       "  </tbody>\n",
       "</table>\n",
       "</div>"
      ],
      "text/plain": [
       "        State  Population  Murder.Rate Abbreviation     LogPop\n",
       "0     Alabama     4779736          5.7           AL  15.379896\n",
       "1      Alaska      710231          5.6           AK  13.473346\n",
       "2     Arizona     6392017          4.7           AZ  15.670560\n",
       "3    Arkansas     2915918          5.6           AR  14.885695\n",
       "4  California    37253956          4.4           CA  17.433269"
      ]
     },
     "execution_count": 516,
     "metadata": {},
     "output_type": "execute_result"
    }
   ],
   "source": [
    "mydata[\"LogPop\"] = np.log(mydata[\"Population\"])\n",
    "mydata.head()"
   ]
  },
  {
   "cell_type": "code",
   "execution_count": 517,
   "id": "b1ebc286",
   "metadata": {},
   "outputs": [
    {
     "data": {
      "text/html": [
       "<div>\n",
       "<style scoped>\n",
       "    .dataframe tbody tr th:only-of-type {\n",
       "        vertical-align: middle;\n",
       "    }\n",
       "\n",
       "    .dataframe tbody tr th {\n",
       "        vertical-align: top;\n",
       "    }\n",
       "\n",
       "    .dataframe thead th {\n",
       "        text-align: right;\n",
       "    }\n",
       "</style>\n",
       "<table border=\"1\" class=\"dataframe\">\n",
       "  <thead>\n",
       "    <tr style=\"text-align: right;\">\n",
       "      <th></th>\n",
       "      <th>Population</th>\n",
       "      <th>Murder.Rate</th>\n",
       "      <th>LogPop</th>\n",
       "    </tr>\n",
       "  </thead>\n",
       "  <tbody>\n",
       "    <tr>\n",
       "      <th>count</th>\n",
       "      <td>5.000000e+01</td>\n",
       "      <td>50.000000</td>\n",
       "      <td>50.000000</td>\n",
       "    </tr>\n",
       "    <tr>\n",
       "      <th>mean</th>\n",
       "      <td>6.162876e+06</td>\n",
       "      <td>4.066000</td>\n",
       "      <td>15.151917</td>\n",
       "    </tr>\n",
       "    <tr>\n",
       "      <th>std</th>\n",
       "      <td>6.848235e+06</td>\n",
       "      <td>1.915736</td>\n",
       "      <td>1.019926</td>\n",
       "    </tr>\n",
       "    <tr>\n",
       "      <th>min</th>\n",
       "      <td>5.636260e+05</td>\n",
       "      <td>0.900000</td>\n",
       "      <td>13.242146</td>\n",
       "    </tr>\n",
       "    <tr>\n",
       "      <th>25%</th>\n",
       "      <td>1.833004e+06</td>\n",
       "      <td>2.425000</td>\n",
       "      <td>14.421447</td>\n",
       "    </tr>\n",
       "    <tr>\n",
       "      <th>50%</th>\n",
       "      <td>4.436370e+06</td>\n",
       "      <td>4.000000</td>\n",
       "      <td>15.305108</td>\n",
       "    </tr>\n",
       "    <tr>\n",
       "      <th>75%</th>\n",
       "      <td>6.680312e+06</td>\n",
       "      <td>5.550000</td>\n",
       "      <td>15.714609</td>\n",
       "    </tr>\n",
       "    <tr>\n",
       "      <th>max</th>\n",
       "      <td>3.725396e+07</td>\n",
       "      <td>10.300000</td>\n",
       "      <td>17.433269</td>\n",
       "    </tr>\n",
       "  </tbody>\n",
       "</table>\n",
       "</div>"
      ],
      "text/plain": [
       "         Population  Murder.Rate     LogPop\n",
       "count  5.000000e+01    50.000000  50.000000\n",
       "mean   6.162876e+06     4.066000  15.151917\n",
       "std    6.848235e+06     1.915736   1.019926\n",
       "min    5.636260e+05     0.900000  13.242146\n",
       "25%    1.833004e+06     2.425000  14.421447\n",
       "50%    4.436370e+06     4.000000  15.305108\n",
       "75%    6.680312e+06     5.550000  15.714609\n",
       "max    3.725396e+07    10.300000  17.433269"
      ]
     },
     "execution_count": 517,
     "metadata": {},
     "output_type": "execute_result"
    }
   ],
   "source": [
    "mydata.describe()"
   ]
  },
  {
   "cell_type": "code",
   "execution_count": 518,
   "id": "b4f592af",
   "metadata": {},
   "outputs": [
    {
     "data": {
      "text/plain": [
       "array([[<AxesSubplot:title={'center':'Population'}>,\n",
       "        <AxesSubplot:title={'center':'Murder.Rate'}>],\n",
       "       [<AxesSubplot:title={'center':'LogPop'}>, <AxesSubplot:>]],\n",
       "      dtype=object)"
      ]
     },
     "execution_count": 518,
     "metadata": {},
     "output_type": "execute_result"
    },
    {
     "data": {
      "image/png": "[encoded data removed]",
      "text/plain": [
       "<Figure size 432x288 with 4 Axes>"
      ]
     },
     "metadata": {
      "needs_background": "light"
     },
     "output_type": "display_data"
    }
   ],
   "source": [
    "mydata.hist()"
   ]
  },
  {
   "cell_type": "code",
   "execution_count": 519,
   "id": "db8e1c15",
   "metadata": {},
   "outputs": [
    {
     "data": {
      "text/html": [
       "<div>\n",
       "<style scoped>\n",
       "    .dataframe tbody tr th:only-of-type {\n",
       "        vertical-align: middle;\n",
       "    }\n",
       "\n",
       "    .dataframe tbody tr th {\n",
       "        vertical-align: top;\n",
       "    }\n",
       "\n",
       "    .dataframe thead th {\n",
       "        text-align: right;\n",
       "    }\n",
       "</style>\n",
       "<table border=\"1\" class=\"dataframe\">\n",
       "  <thead>\n",
       "    <tr style=\"text-align: right;\">\n",
       "      <th></th>\n",
       "      <th>Population</th>\n",
       "      <th>Murder.Rate</th>\n",
       "      <th>LogPop</th>\n",
       "    </tr>\n",
       "  </thead>\n",
       "  <tbody>\n",
       "    <tr>\n",
       "      <th>Population</th>\n",
       "      <td>1.000000</td>\n",
       "      <td>0.182069</td>\n",
       "      <td>0.833394</td>\n",
       "    </tr>\n",
       "    <tr>\n",
       "      <th>Murder.Rate</th>\n",
       "      <td>0.182069</td>\n",
       "      <td>1.000000</td>\n",
       "      <td>0.308170</td>\n",
       "    </tr>\n",
       "    <tr>\n",
       "      <th>LogPop</th>\n",
       "      <td>0.833394</td>\n",
       "      <td>0.308170</td>\n",
       "      <td>1.000000</td>\n",
       "    </tr>\n",
       "  </tbody>\n",
       "</table>\n",
       "</div>"
      ],
      "text/plain": [
       "             Population  Murder.Rate    LogPop\n",
       "Population     1.000000     0.182069  0.833394\n",
       "Murder.Rate    0.182069     1.000000  0.308170\n",
       "LogPop         0.833394     0.308170  1.000000"
      ]
     },
     "execution_count": 519,
     "metadata": {},
     "output_type": "execute_result"
    }
   ],
   "source": [
    "corr = mydata.corr()\n",
    "corr"
   ]
  },
  {
   "cell_type": "code",
   "execution_count": 520,
   "id": "e0989f64",
   "metadata": {},
   "outputs": [
    {
     "data": {
      "text/plain": [
       "<AxesSubplot:>"
      ]
     },
     "execution_count": 520,
     "metadata": {},
     "output_type": "execute_result"
    },
    {
     "data": {
      "image/png": "[encoded data removed]",
      "text/plain": [
       "<Figure size 432x288 with 2 Axes>"
      ]
     },
     "metadata": {
      "needs_background": "light"
     },
     "output_type": "display_data"
    }
   ],
   "source": [
    "sns.heatmap(corr,annot=True)"
   ]
  },
  {
   "cell_type": "code",
   "execution_count": 521,
   "id": "95dcfb06",
   "metadata": {},
   "outputs": [
    {
     "data": {
      "text/plain": [
       "<AxesSubplot:xlabel='State', ylabel='Murder.Rate'>"
      ]
     },
     "execution_count": 521,
     "metadata": {},
     "output_type": "execute_result"
    },
    {
     "data": {
      "image/png": "[encoded data removed]",
      "text/plain": [
       "<Figure size 432x288 with 1 Axes>"
      ]
     },
     "metadata": {
      "needs_background": "light"
     },
     "output_type": "display_data"
    }
   ],
   "source": [
    "sns.boxplot(x=\"State\", y=\"Murder.Rate\", data=mydata[0:3])"
   ]
  },
  {
   "cell_type": "code",
   "execution_count": 522,
   "id": "56392ead",
   "metadata": {},
   "outputs": [
    {
     "data": {
      "text/plain": [
       "<seaborn.axisgrid.PairGrid at 0x217be3fd4f0>"
      ]
     },
     "execution_count": 522,
     "metadata": {},
     "output_type": "execute_result"
    },
    {
     "data": {
      "image/png": "[encoded data removed]",
      "text/plain": [
       "<Figure size 540x540 with 12 Axes>"
      ]
     },
     "metadata": {
      "needs_background": "light"
     },
     "output_type": "display_data"
    }
   ],
   "source": [
    "sns.pairplot(mydata)"
   ]
  },
  {
   "cell_type": "code",
   "execution_count": 523,
   "id": "aa0ed803",
   "metadata": {},
   "outputs": [],
   "source": [
    "mydata_nr = mydata[['Murder.Rate','Population']]"
   ]
  },
  {
   "cell_type": "code",
   "execution_count": 524,
   "id": "678ce68c",
   "metadata": {},
   "outputs": [
    {
     "data": {
      "text/html": [
       "<div>\n",
       "<style scoped>\n",
       "    .dataframe tbody tr th:only-of-type {\n",
       "        vertical-align: middle;\n",
       "    }\n",
       "\n",
       "    .dataframe tbody tr th {\n",
       "        vertical-align: top;\n",
       "    }\n",
       "\n",
       "    .dataframe thead th {\n",
       "        text-align: right;\n",
       "    }\n",
       "</style>\n",
       "<table border=\"1\" class=\"dataframe\">\n",
       "  <thead>\n",
       "    <tr style=\"text-align: right;\">\n",
       "      <th></th>\n",
       "      <th>Murder.Rate</th>\n",
       "      <th>Population</th>\n",
       "    </tr>\n",
       "  </thead>\n",
       "  <tbody>\n",
       "    <tr>\n",
       "      <th>0</th>\n",
       "      <td>5.7</td>\n",
       "      <td>4779736</td>\n",
       "    </tr>\n",
       "    <tr>\n",
       "      <th>1</th>\n",
       "      <td>5.6</td>\n",
       "      <td>710231</td>\n",
       "    </tr>\n",
       "    <tr>\n",
       "      <th>2</th>\n",
       "      <td>4.7</td>\n",
       "      <td>6392017</td>\n",
       "    </tr>\n",
       "    <tr>\n",
       "      <th>3</th>\n",
       "      <td>5.6</td>\n",
       "      <td>2915918</td>\n",
       "    </tr>\n",
       "    <tr>\n",
       "      <th>4</th>\n",
       "      <td>4.4</td>\n",
       "      <td>37253956</td>\n",
       "    </tr>\n",
       "  </tbody>\n",
       "</table>\n",
       "</div>"
      ],
      "text/plain": [
       "   Murder.Rate  Population\n",
       "0          5.7     4779736\n",
       "1          5.6      710231\n",
       "2          4.7     6392017\n",
       "3          5.6     2915918\n",
       "4          4.4    37253956"
      ]
     },
     "execution_count": 524,
     "metadata": {},
     "output_type": "execute_result"
    }
   ],
   "source": [
    "mydata_nr.head()"
   ]
  },
  {
   "cell_type": "code",
   "execution_count": 525,
   "id": "fce47fb2",
   "metadata": {},
   "outputs": [],
   "source": [
    "#Linear regression"
   ]
  },
  {
   "cell_type": "code",
   "execution_count": 526,
   "id": "9ed4aac2",
   "metadata": {},
   "outputs": [],
   "source": [
    "from sklearn import linear_model\n",
    "regr = linear_model.LinearRegression()\n",
    "x = mydata['Murder.Rate']\n",
    "y = mydata['LogPop']"
   ]
  },
  {
   "cell_type": "code",
   "execution_count": 527,
   "id": "940ce728",
   "metadata": {},
   "outputs": [
    {
     "data": {
      "text/plain": [
       "(array([0.16406808]), 14.484815928231948)"
      ]
     },
     "execution_count": 527,
     "metadata": {},
     "output_type": "execute_result"
    }
   ],
   "source": [
    "regr.fit(x.values.reshape(-1, 1),y)\n",
    "regr.coef_, regr.intercept_"
   ]
  },
  {
   "cell_type": "code",
   "execution_count": 528,
   "id": "94465143",
   "metadata": {},
   "outputs": [
    {
     "data": {
      "image/png": "[encoded data removed]",
      "text/plain": [
       "<Figure size 432x288 with 1 Axes>"
      ]
     },
     "metadata": {
      "needs_background": "light"
     },
     "output_type": "display_data"
    }
   ],
   "source": [
    "xx = np.arange(0,10,0.1)\n",
    "yy = np.arange(0,10,0.1)*regr.coef_ + regr.intercept_\n",
    "plt.plot(xx,yy)\n",
    "plt.plot(x,y,'*')\n",
    "plt.show()"
   ]
  },
  {
   "cell_type": "markdown",
   "id": "448689ab",
   "metadata": {},
   "source": [
    "# DISTRIBUTIONS"
   ]
  },
  {
   "cell_type": "code",
   "execution_count": 529,
   "id": "fdd9aee1",
   "metadata": {},
   "outputs": [],
   "source": [
    "# Bionomial distribution\n",
    "N = 7 #trials\n",
    "P = 0.6 #probability of occuring\n",
    "y = np.arange(0,8)"
   ]
  },
  {
   "cell_type": "code",
   "execution_count": 530,
   "id": "71ff02af",
   "metadata": {},
   "outputs": [
    {
     "name": "stdout",
     "output_type": "stream",
     "text": [
      "0.0016384000000000006\n",
      "0.01720320000000001\n",
      "0.07741440000000002\n",
      "0.193536\n",
      "0.29030400000000006\n",
      "0.2612736\n",
      "0.13063679999999997\n",
      "0.027993599999999993\n"
     ]
    }
   ],
   "source": [
    "z = []\n",
    "import math\n",
    "for x in y:\n",
    "    prob = ( ( math.factorial(N) ) / ( (math.factorial(x)) * (math.factorial(N-x)) ) ) * (P**x) * ( (1-P)**(N-x) )\n",
    "    z.append(prob)\n",
    "    print(prob)\n",
    "z = np.array(z)  "
   ]
  },
  {
   "cell_type": "code",
   "execution_count": 531,
   "id": "628556ea",
   "metadata": {},
   "outputs": [
    {
     "data": {
      "image/png": "[encoded data removed]",
      "text/plain": [
       "<Figure size 432x288 with 1 Axes>"
      ]
     },
     "metadata": {
      "needs_background": "light"
     },
     "output_type": "display_data"
    }
   ],
   "source": [
    "plt.bar(y,z*100)\n",
    "plt.show()"
   ]
  },
  {
   "cell_type": "code",
   "execution_count": 532,
   "id": "33be8a4b",
   "metadata": {},
   "outputs": [
    {
     "data": {
      "text/plain": [
       "array([0.0016384, 0.0172032, 0.0774144, 0.193536 , 0.290304 , 0.2612736,\n",
       "       0.1306368, 0.0279936])"
      ]
     },
     "execution_count": 532,
     "metadata": {},
     "output_type": "execute_result"
    }
   ],
   "source": [
    "N = 7\n",
    "p = 0.6\n",
    "k = np.arange(0,8)\n",
    "binomial = stats.binom.pmf(k,N,p)\n",
    "binomial"
   ]
  },
  {
   "cell_type": "code",
   "execution_count": 533,
   "id": "8255cc71",
   "metadata": {},
   "outputs": [
    {
     "data": {
      "image/png": "[encoded data removed]",
      "text/plain": [
       "<Figure size 432x288 with 1 Axes>"
      ]
     },
     "metadata": {
      "needs_background": "light"
     },
     "output_type": "display_data"
    }
   ],
   "source": [
    "plt.bar(k,binomial*100)\n",
    "plt.show()"
   ]
  },
  {
   "cell_type": "code",
   "execution_count": 534,
   "id": "2953763c",
   "metadata": {},
   "outputs": [],
   "source": [
    "# Poisson Distribution\n",
    "lam = 6\n",
    "n = np.arange(0,20)\n",
    "poisson = stats.poisson.pmf(n,lam)"
   ]
  },
  {
   "cell_type": "code",
   "execution_count": 535,
   "id": "bcf1e719",
   "metadata": {},
   "outputs": [
    {
     "data": {
      "image/png": "[encoded data removed]",
      "text/plain": [
       "<Figure size 432x288 with 1 Axes>"
      ]
     },
     "metadata": {
      "needs_background": "light"
     },
     "output_type": "display_data"
    }
   ],
   "source": [
    "plt.bar(n,poisson*100)\n",
    "plt.plot(n,poisson*100, color=\"r\", marker=\"o\")\n",
    "plt.show()"
   ]
  },
  {
   "cell_type": "code",
   "execution_count": 536,
   "id": "69dfe939",
   "metadata": {},
   "outputs": [
    {
     "data": {
      "text/plain": [
       "array([13.10405856, 13.87681172, 20.20396929, -3.24045555, -4.23500567,\n",
       "        0.79598464, -4.80344409, 11.00064609, -6.29704002, 12.04165536])"
      ]
     },
     "execution_count": 536,
     "metadata": {},
     "output_type": "execute_result"
    }
   ],
   "source": [
    "x = stats.norm.rvs(loc=10, scale=10, size=10, random_state=None)\n",
    "x"
   ]
  },
  {
   "cell_type": "code",
   "execution_count": 537,
   "id": "662ae6e5",
   "metadata": {},
   "outputs": [
    {
     "data": {
      "text/plain": [
       "0.3085375387259869"
      ]
     },
     "execution_count": 537,
     "metadata": {},
     "output_type": "execute_result"
    }
   ],
   "source": [
    "1-stats.norm.cdf(15, loc=10, scale=10)"
   ]
  },
  {
   "cell_type": "markdown",
   "id": "2e43c57b",
   "metadata": {},
   "source": [
    "# Inferential Statistics"
   ]
  },
  {
   "cell_type": "code",
   "execution_count": 538,
   "id": "d9af484a",
   "metadata": {},
   "outputs": [],
   "source": [
    "# Central limit theorem as example the expenential distribution\n",
    "# Third theorem\n",
    "from numpy import random\n",
    "\n",
    "sample_size = 5000\n",
    "mean = []\n",
    "y = np.arange(0,20001)\n",
    "for x in y:\n",
    "    z = random.exponential(scale=2, size=(sample_size, 1))\n",
    "    mean.append(np.mean(z))"
   ]
  },
  {
   "cell_type": "code",
   "execution_count": 539,
   "id": "0aab5666",
   "metadata": {},
   "outputs": [
    {
     "data": {
      "text/plain": [
       "array([[<AxesSubplot:title={'center':'0'}>]], dtype=object)"
      ]
     },
     "execution_count": 539,
     "metadata": {},
     "output_type": "execute_result"
    },
    {
     "data": {
      "image/png": "[encoded data removed]",
      "text/plain": [
       "<Figure size 432x288 with 1 Axes>"
      ]
     },
     "metadata": {
      "needs_background": "light"
     },
     "output_type": "display_data"
    }
   ],
   "source": [
    "expo = pd.DataFrame(z)\n",
    "expo.hist(bins=200)"
   ]
  },
  {
   "cell_type": "code",
   "execution_count": 540,
   "id": "0da1384d",
   "metadata": {},
   "outputs": [
    {
     "data": {
      "text/plain": [
       "array([[<AxesSubplot:title={'center':'0'}>]], dtype=object)"
      ]
     },
     "execution_count": 540,
     "metadata": {},
     "output_type": "execute_result"
    },
    {
     "data": {
      "image/png": "[encoded data removed]",
      "text/plain": [
       "<Figure size 432x288 with 1 Axes>"
      ]
     },
     "metadata": {
      "needs_background": "light"
     },
     "output_type": "display_data"
    }
   ],
   "source": [
    "sample_mean = pd.DataFrame(mean)\n",
    "sample_mean.hist(bins=200)"
   ]
  },
  {
   "cell_type": "code",
   "execution_count": 541,
   "id": "818ad137",
   "metadata": {},
   "outputs": [
    {
     "data": {
      "text/plain": [
       "(0    0.028381\n",
       " dtype: float64,\n",
       " 0    0.027784\n",
       " dtype: float64)"
      ]
     },
     "execution_count": 541,
     "metadata": {},
     "output_type": "execute_result"
    }
   ],
   "source": [
    "sample_mean.std(), expo.std()/np.sqrt(sample_size)  # Second theorem"
   ]
  },
  {
   "cell_type": "code",
   "execution_count": 542,
   "id": "5f8690bc",
   "metadata": {},
   "outputs": [
    {
     "data": {
      "text/plain": [
       "(0    1.999706\n",
       " dtype: float64,\n",
       " 0    1.999985\n",
       " dtype: float64)"
      ]
     },
     "execution_count": 542,
     "metadata": {},
     "output_type": "execute_result"
    }
   ],
   "source": [
    "expo.mean(), sample_mean.mean()  # First theorem"
   ]
  },
  {
   "cell_type": "code",
   "execution_count": 543,
   "id": "35fd8f5e",
   "metadata": {},
   "outputs": [],
   "source": [
    "# The normal distribution\n",
    "# If we know mean and std, what is the prob of x\n",
    "def normaDist(X,mean,st):\n",
    "    Z = (X-mean)/st # The Z score\n",
    "    return ([stats.norm.sf(Z), stats.norm.cdf(Z)])  # The prob for x>X and for x<X"
   ]
  },
  {
   "cell_type": "code",
   "execution_count": 544,
   "id": "690a50e0",
   "metadata": {},
   "outputs": [],
   "source": [
    "# From -x to x what is the prob. For std x must be n*1  \n",
    "def cumulativeArea(x):\n",
    "    x = np.abs(x)\n",
    "    cdf_left = stats.norm.cdf(-x, loc=0, scale=1)\n",
    "    cdf_right = stats.norm.cdf(x, loc=0, scale=1)\n",
    "    return cdf_right - cdf_left\n",
    "    "
   ]
  },
  {
   "cell_type": "code",
   "execution_count": 545,
   "id": "5503f103",
   "metadata": {},
   "outputs": [],
   "source": [
    "# The inverse problem. What is the std for x area of propability.\n",
    "# For x*100 persent of the total area\n",
    "def percentArea(x):\n",
    "    y=(1-x)/2\n",
    "    q_left=y\n",
    "    q_right = x + y\n",
    "    ppf_left = stats.norm.ppf(q_left, loc=0, scale=1)\n",
    "    ppf_right = stats.norm.ppf(q_right, loc=0, scale=1)\n",
    "    return (ppf_right-ppf_left)/2\n",
    "    "
   ]
  },
  {
   "cell_type": "code",
   "execution_count": 546,
   "id": "7f68c21b",
   "metadata": {},
   "outputs": [],
   "source": [
    "# From -x to x what is the prob. For std x must be n*1  \n",
    "def cumulativeAreaStudent(x,sampleSize):\n",
    "    x = np.abs(x)\n",
    "    cdf_left = stats.t.cdf(-x, sampleSize-1, loc=0, scale=1)\n",
    "    cdf_right = stats.t.cdf(x, sampleSize-1, loc=0, scale=1)\n",
    "    return cdf_right - cdf_left"
   ]
  },
  {
   "cell_type": "code",
   "execution_count": 547,
   "id": "fb1b927a",
   "metadata": {},
   "outputs": [],
   "source": [
    "# The inverse problem. What is the std for x area of propability.\n",
    "# For x*100 persent of the total area\n",
    "def percentAreaStudent(x,sampleSize):\n",
    "    y=(1.0-x)/2.0\n",
    "    q_left=y\n",
    "    q_right = x + y\n",
    "    ppf_left = stats.t.ppf(q_left, sampleSize-1, loc=0, scale=1)\n",
    "    ppf_right = stats.t.ppf(q_right, sampleSize-1, loc=0, scale=1)\n",
    "    return (ppf_right-ppf_left)/2.0"
   ]
  },
  {
   "cell_type": "code",
   "execution_count": 548,
   "id": "e067568a",
   "metadata": {},
   "outputs": [
    {
     "data": {
      "text/plain": [
       "([0.2002185519898444, 0.7997814480101556],\n",
       " 1.959963984540054,\n",
       " 0.950004209703559)"
      ]
     },
     "execution_count": 548,
     "metadata": {},
     "output_type": "execute_result"
    }
   ],
   "source": [
    "X = 0.973 # The value\n",
    "mean = 0.693 # The mean\n",
    "st = 0.333 # The std\n",
    "normaDist(X,mean,st), percentArea(0.95), cumulativeArea(1.96)"
   ]
  },
  {
   "cell_type": "code",
   "execution_count": 549,
   "id": "f65baacc",
   "metadata": {},
   "outputs": [
    {
     "data": {
      "text/plain": [
       "1.753050355692555"
      ]
     },
     "execution_count": 549,
     "metadata": {},
     "output_type": "execute_result"
    }
   ],
   "source": [
    "percentAreaStudent(0.90,16)"
   ]
  },
  {
   "cell_type": "code",
   "execution_count": 550,
   "id": "fb364118",
   "metadata": {},
   "outputs": [
    {
     "data": {
      "text/plain": [
       "0.942156059732985"
      ]
     },
     "execution_count": 550,
     "metadata": {},
     "output_type": "execute_result"
    }
   ],
   "source": [
    "cumulativeAreaStudent(2.34,7)"
   ]
  },
  {
   "cell_type": "markdown",
   "id": "b6bcc617",
   "metadata": {},
   "source": [
    "# Confident interval"
   ]
  },
  {
   "cell_type": "code",
   "execution_count": 551,
   "id": "c8d8c1aa",
   "metadata": {},
   "outputs": [
    {
     "data": {
      "text/plain": [
       "[44.52615022488881, 53.47384977511119, 4.473849775111193]"
      ]
     },
     "execution_count": 551,
     "metadata": {},
     "output_type": "execute_result"
    }
   ],
   "source": [
    "# Confidence Interval on the Mean\n",
    "Sm = 49.0 #Sample mean\n",
    "St = 4.0 #Sample std\n",
    "Ss = 9 #Sample size\n",
    "Cl = 0.99 #Confident limit\n",
    "\n",
    "Merr = percentAreaStudent(Cl,Ss)*(St/np.sqrt(Ss)) # Margin error\n",
    "Ll = Sm - Merr #Lower limit\n",
    "Ul = Sm+ Merr #Upper limit\n",
    "confInt = [Ll,Ul,Merr]\n",
    "confInt"
   ]
  },
  {
   "cell_type": "code",
   "execution_count": 552,
   "id": "7562475f",
   "metadata": {},
   "outputs": [
    {
     "data": {
      "text/plain": [
       "[0.47520894790838536, 0.5647910520916146, 0.044791052091614644]"
      ]
     },
     "execution_count": 552,
     "metadata": {},
     "output_type": "execute_result"
    }
   ],
   "source": [
    "# Confident Interval on the Proportion\n",
    "p = 0.52 #Sample proportion\n",
    "Ss = 500 #Sample size\n",
    "Cl = 0.95 #Confident limit\n",
    "\n",
    "Sp = np.sqrt( (p*(1-p))/Ss ) #Std of p\n",
    "DisToCon = 0.5/Ss # We are approximating a discrete distribution with a continuous distribution\n",
    "\n",
    "Merr = percentArea(Cl)*Sp + DisToCon # Margin error\n",
    "Ll = p - Merr #Lower limit\n",
    "Ul = p + Merr #Upper limit\n",
    "confInt = [Ll,Ul,Merr]\n",
    "confInt"
   ]
  },
  {
   "cell_type": "code",
   "execution_count": 553,
   "id": "5f3f714a",
   "metadata": {},
   "outputs": [
    {
     "data": {
      "text/plain": [
       "[-4.26450183604449,\n",
       " 2.7145018360444895,\n",
       " 3.48950183604449,\n",
       " 3.625,\n",
       " 4.4,\n",
       " 1.5854272438224801]"
      ]
     },
     "execution_count": 553,
     "metadata": {},
     "output_type": "execute_result"
    }
   ],
   "source": [
    "# Confident interval on Difference between means\n",
    "groupOne = pd.Series([3, 4, 5, 9 ,4, 0, 1, 3])\n",
    "groupTwo = pd.Series([2, 4, 2, 5, 9])\n",
    "Cl = 0.95 #Confident limit\n",
    "\n",
    "M1 = groupOne.mean()\n",
    "M2 = groupTwo.mean()\n",
    "df = (groupOne.size -1) + (groupTwo.size -1)\n",
    "\n",
    "def stdDM(groupOne,groupTwo,M1,M2):\n",
    "    zOne = 0\n",
    "    zTwo = 0\n",
    "    for x in groupOne:\n",
    "        s = x-M1\n",
    "        zOne += s**2\n",
    "    for x in groupTwo:\n",
    "        s = x-M2\n",
    "        zTwo += s**2    \n",
    "    SSE = zOne + zTwo \n",
    "    df = (groupOne.size -1) + (groupTwo.size -1)\n",
    "    MSE = SSE/df\n",
    "    nn = (2/ ( (1/groupOne.size) + (1/groupTwo.size) ) )\n",
    "    return np.sqrt((2*MSE)/nn)\n",
    "\n",
    "Merr = percentAreaStudent(Cl,df+1)*stdDM(groupOne,groupTwo,M1,M2) # Margin error   \n",
    "Ll = M1-M2 - Merr #Lower limit\n",
    "Ul = M1-M2 + Merr #Upper limit\n",
    "confInt = [Ll,Ul,Merr,M1,M2,stdDM(groupOne,groupTwo,M1,M2)]\n",
    "confInt"
   ]
  },
  {
   "cell_type": "code",
   "execution_count": 554,
   "id": "fc166808",
   "metadata": {},
   "outputs": [
    {
     "data": {
      "text/plain": [
       "(-4.26450183604449, 2.7145018360444895)"
      ]
     },
     "execution_count": 554,
     "metadata": {},
     "output_type": "execute_result"
    }
   ],
   "source": [
    "from statsmodels.stats.weightstats import CompareMeans\n",
    "groupOne = pd.Series([3, 4, 5, 9 ,4, 0, 1, 3])\n",
    "groupTwo = pd.Series([2, 4, 2, 5, 9])\n",
    "CompareMeans.from_data(groupOne, groupTwo).tconfint_diff(alpha=0.05, alternative='two-sided', usevar='pooled')"
   ]
  },
  {
   "cell_type": "code",
   "execution_count": 555,
   "id": "ea182abc",
   "metadata": {},
   "outputs": [
    {
     "data": {
      "text/plain": [
       "[-0.9090587613184551, -0.5883563986749238]"
      ]
     },
     "execution_count": 555,
     "metadata": {},
     "output_type": "execute_result"
    }
   ],
   "source": [
    "# Confident interval on the Correlation\n",
    "Sr = -0.8 #Sample correlation\n",
    "Ss = 40 #Sample size\n",
    "Cl = 0.99 #Confident limit\n",
    "\n",
    "def zDot(r):\n",
    "    z = 0.5*np.log( (1+r)/(1-r) )\n",
    "    return z\n",
    "def zSTD(N):\n",
    "    s = 1/(np.sqrt(N-3))\n",
    "    return s\n",
    "def zDotInverse(z):\n",
    "    r = (np.exp(2*z)-1)/(np.exp(2*z)+1)\n",
    "    return r\n",
    "\n",
    "Merr = percentArea(Cl)*zSTD(Ss) # Margin error   \n",
    "Ll = zDot(Sr) - Merr #Lower limit\n",
    "Ul = zDot(Sr) + Merr #Upper limit\n",
    "confInt = [zDotInverse(Ll),zDotInverse(Ul)]\n",
    "confInt"
   ]
  },
  {
   "cell_type": "code",
   "execution_count": 556,
   "id": "e22c4af7",
   "metadata": {},
   "outputs": [
    {
     "data": {
      "text/plain": [
       "(0.46975645105765107,\n",
       " 0.5302435489423489,\n",
       " 0.26512177447117447,\n",
       " 0.660197687676418)"
      ]
     },
     "execution_count": 556,
     "metadata": {},
     "output_type": "execute_result"
    }
   ],
   "source": [
    "# Testing a single Mean\n",
    "# What is the two-tailed probability value testing the null hypothesis that the population mean is 0?\n",
    "list = pd.Series([0.55, 0.91, 0.71, 0.86, 2.57, -0.30, -0.88, 1.55])\n",
    "mean_pop = 0.5\n",
    "std_pop = None\n",
    "\n",
    "if std_pop == None:\n",
    "    mean = list.mean()\n",
    "    std = list.std()\n",
    "    stdM = std/np.sqrt(list.size)\n",
    "    t = (mean - mean_pop) / stdM\n",
    "    p_value_two_tails = 1 - cumulativeAreaStudent(t,list.size)\n",
    "    p_value_one_tail = p_value_two_tails/2\n",
    "    prob = cumulativeAreaStudent(t,list.size)\n",
    "else:\n",
    "    mean = list.mean()\n",
    "    stdM = std_pop/np.sqrt(list.size)\n",
    "    z = (mean - mean_pop) / stdM\n",
    "    p_value_two_tails = 1 - cumulativeArea(z)\n",
    "    p_value_one_tail = p_value_two_tails/2\n",
    "    prob = cumulativeArea(z) \n",
    "prob, p_value_two_tails, p_value_one_tail, t     "
   ]
  },
  {
   "cell_type": "markdown",
   "id": "5cc25f71",
   "metadata": {},
   "source": [
    "# Null hypothesis"
   ]
  },
  {
   "cell_type": "code",
   "execution_count": 557,
   "id": "9c7704cc",
   "metadata": {},
   "outputs": [
    {
     "name": "stdout",
     "output_type": "stream",
     "text": [
      "The null hypothesis can be rejected. (One-tailed prob)\n"
     ]
    }
   ],
   "source": [
    "# Testing a single mean\n",
    "# Null hypothesis, the population mean (μ) is 0\n",
    "a = 0.05 #The significance level\n",
    "population_mean = 0 # Null hypothesis\n",
    "sample = pd.Series([5,22,-2,3,4,-2,6,18,11,-11,7,15,10,6,-1,5,-3,7,-3,5,1,8,12,-4])\n",
    "tails_test = 1  # 1 -> one-tailed prob, 2 -> two-tailed prob\n",
    "\n",
    "sample_mean = sample.mean()\n",
    "sample_std = sample.std()\n",
    "standard_error = sample_std/np.sqrt(sample.size)\n",
    "t = (sample_mean - population_mean) / standard_error # how far from the mean into the t-distribution\n",
    "p_value_two_tails = 1 - cumulativeAreaStudent(t,sample.size)\n",
    "p_value_one_tail = p_value_two_tails/2\n",
    "prob = cumulativeAreaStudent(t,sample.size)\n",
    "#prob, p_value_two_tails, p_value_one_tail, t\n",
    "\n",
    "if tails_test == 2 :\n",
    "    if p_value_two_tails < a :\n",
    "        print(\"The null hypothesis can be rejected. (Two-tailed prob)\")\n",
    "    else:\n",
    "        print(\"The null hypothesis can not be rejected. (Two-tailed prob)\")\n",
    "else:\n",
    "    if p_value_one_tail < a :\n",
    "        print(\"The null hypothesis can be rejected. (One-tailed prob)\")\n",
    "    else:\n",
    "        print(\"The null hypothesis can not be rejected. (One-tailed prob)\")\n",
    "    "
   ]
  },
  {
   "cell_type": "code",
   "execution_count": 558,
   "id": "6662a943",
   "metadata": {},
   "outputs": [
    {
     "name": "stdout",
     "output_type": "stream",
     "text": [
      "The null hypothesis can be rejected. (One-tailed prob)\n"
     ]
    },
    {
     "data": {
      "text/plain": [
       "(1.959963984540054,\n",
       " 2.583988897471613,\n",
       " 0.004883246910836747,\n",
       " 0.009766493821673494)"
      ]
     },
     "execution_count": 558,
     "metadata": {},
     "output_type": "execute_result"
    }
   ],
   "source": [
    "# Proportion Testing\n",
    "p_pop = 0.6 # H0 the population proportion p = 0.7\n",
    "q_pop = 1 - p_pop\n",
    "\n",
    "n = 250 # The sample size\n",
    "x = 170 # The survey\n",
    "a = 0.05 #The significance level\n",
    "tails_test = 1  # 1 -> one-tailed prob, 2 -> two-tailed prob\n",
    "\n",
    "p_sam = x/n # The sample proportion\n",
    "Z_a = percentArea(1-a)\n",
    "Z_critical = (p_sam - p_pop) / np.sqrt( (p_pop*q_pop)/n ) \n",
    "\n",
    "if Z_critical<0:\n",
    "    Z_critical = Z_critical - (0.5/n)\n",
    "else:\n",
    "    Z_critical = Z_critical + (0.5/n)\n",
    "\n",
    "p_value_two_tails = 1 - cumulativeArea(Z_critical)\n",
    "p_value_one_tail = p_value_two_tails/2\n",
    "\n",
    "if tails_test == 2 :\n",
    "    if p_value_two_tails < a :\n",
    "        print(\"The null hypothesis can be rejected. (Two-tailed prob)\")\n",
    "    else:\n",
    "        print(\"The null hypothesis can not be rejected. (Two-tailed prob)\")\n",
    "else:\n",
    "    if p_value_one_tail < a :\n",
    "        print(\"The null hypothesis can be rejected. (One-tailed prob)\")\n",
    "    else:\n",
    "        print(\"The null hypothesis can not be rejected. (One-tailed prob)\")\n",
    "\n",
    "\n",
    "Z_a, Z_critical,  p_value_one_tail, p_value_two_tails    "
   ]
  },
  {
   "cell_type": "code",
   "execution_count": 559,
   "id": "0ba3dd37",
   "metadata": {},
   "outputs": [
    {
     "data": {
      "text/plain": [
       "(2.7116307227332044, 0.003347656769375578)"
      ]
     },
     "execution_count": 559,
     "metadata": {},
     "output_type": "execute_result"
    }
   ],
   "source": [
    "from statsmodels.stats.proportion import proportions_ztest\n",
    "p_pop = 0.6 # the value of the proportion null hypothesis  \n",
    "nobs = 250 # the number of trials or observations\n",
    "count = 170 #the number of successes in nobs trials\n",
    "#alt = \"two-sided\" # two-tailed prob\n",
    "#alt = \"smaller\" # one-tailed prob on the left\n",
    "alt = \"larger\" # one-tailed prob on the right\n",
    "zstat, p_value = proportions_ztest(count, nobs, value=p_pop, alternative=alt, prop_var=False)\n",
    "zstat, p_value"
   ]
  },
  {
   "cell_type": "code",
   "execution_count": 560,
   "id": "6f1436c2",
   "metadata": {},
   "outputs": [
    {
     "name": "stdout",
     "output_type": "stream",
     "text": [
      "The null hypothesis can not be rejected. (Two-tailed prob)\n"
     ]
    }
   ],
   "source": [
    "# Testing Difference between two means. Independent Groups. (t-test)\n",
    "# What is the two-tailed probability value p?\n",
    "# The hypothesized value is the null hypothesis that the difference between population means is 0.\n",
    "\n",
    "a = 0.05 #The significance level\n",
    "tails_test = 2  # 1 -> one-tailed prob, 2 -> two-tailed prob\n",
    "groupOne = pd.Series([3,4,5])\n",
    "groupTwo = pd.Series([2,4])\n",
    "mean_pop = 0.0\n",
    "\n",
    "def stdDM(groupOne,groupTwo,M1,M2):\n",
    "    zOne = 0\n",
    "    zTwo = 0\n",
    "    for x in groupOne:\n",
    "        s = x-M1\n",
    "        zOne += s**2\n",
    "    for x in groupTwo:\n",
    "        s = x-M2\n",
    "        zTwo += s**2    \n",
    "    SSE = zOne + zTwo \n",
    "    df = (groupOne.size -1) + (groupTwo.size -1)\n",
    "    MSE = SSE/df\n",
    "    nn = (2/ ( (1/groupOne.size) + (1/groupTwo.size) ) )\n",
    "    return np.sqrt((2*MSE)/nn)\n",
    "\n",
    "\n",
    "\n",
    "M1 = groupOne.mean()\n",
    "M2 = groupTwo.mean()\n",
    "stdM = stdDM(groupOne,groupTwo,M1,M2)\n",
    "df = (groupOne.size -1) + (groupTwo.size -1)\n",
    "t = (M1-M2 - mean_pop) / stdM\n",
    "p_value_two_tails = 1 - cumulativeAreaStudent(t,df+1)\n",
    "p_value_one_tail = p_value_two_tails/2\n",
    "prob = cumulativeAreaStudent(t,df+1)\n",
    "\n",
    "#prob, p_value_two_tails, p_value_one_tail, t \n",
    "\n",
    "if tails_test == 2 :\n",
    "    if p_value_two_tails < a :\n",
    "        print(\"The null hypothesis can be rejected. (Two-tailed prob)\")\n",
    "    else:\n",
    "        print(\"The null hypothesis can not be rejected. (Two-tailed prob)\")\n",
    "else:\n",
    "    if p_value_one_tail < a :\n",
    "        print(\"The null hypothesis can be rejected. (One-tailed prob)\")\n",
    "    else:\n",
    "        print(\"The null hypothesis can not be rejected. (One-tailed prob)\")"
   ]
  },
  {
   "cell_type": "code",
   "execution_count": 561,
   "id": "49f84842",
   "metadata": {},
   "outputs": [
    {
     "data": {
      "text/plain": [
       "(0.948683298050514, 0.4127704262065395, 3)"
      ]
     },
     "execution_count": 561,
     "metadata": {},
     "output_type": "execute_result"
    }
   ],
   "source": [
    "t, p_value_two_tails, df "
   ]
  },
  {
   "cell_type": "code",
   "execution_count": 562,
   "id": "6367dbe5",
   "metadata": {},
   "outputs": [
    {
     "data": {
      "text/plain": [
       "(0.948683298050514, 0.4127704262065395, 3.0)"
      ]
     },
     "execution_count": 562,
     "metadata": {},
     "output_type": "execute_result"
    }
   ],
   "source": [
    "from statsmodels.stats.weightstats import ttest_ind\n",
    "groupOne = pd.Series([3,4,5])\n",
    "groupTwo = pd.Series([2,4])\n",
    "mean_pop = 0.0\n",
    "t, p_value, df = ttest_ind(groupOne, groupTwo, alternative='two-sided', usevar='pooled', weights=(None, None), value=mean_pop)\n",
    "t, p_value, df"
   ]
  },
  {
   "cell_type": "code",
   "execution_count": 563,
   "id": "26549b5b",
   "metadata": {},
   "outputs": [
    {
     "data": {
      "text/plain": [
       "0.01872118679682777"
      ]
     },
     "execution_count": 563,
     "metadata": {},
     "output_type": "execute_result"
    }
   ],
   "source": [
    "# Tukey two tails p value. Independent Groups.\n",
    "# Assume you did an experiment with 3 groups and 16 subjects per group. \n",
    "# The sample variances in the three groups were 14, 16, and 18. \n",
    "# Using Tukey's test to compare the means, \n",
    "# what would be the two-tailed probability for a comparison of the first mean (14) with the last mean (18)?\n",
    "sample_var = pd.Series([14,16,18])\n",
    "MSE = sample_var.mean()\n",
    "Q = (18 - 14)/np.sqrt( MSE/16 ) # Like t for the studentized range distribution\n",
    "df = 3*16 -3 # Nr of freedom\n",
    "k = 3 # Nr of groups\n",
    "s_right = stats.studentized_range.cdf(Q, 3, 45, loc=0, scale=1)\n",
    "s_left = stats.studentized_range.cdf(-Q, 3, 45, loc=0, scale=1)\n",
    "two_tails_p = 1-s_right+s_left\n",
    "two_tails_p"
   ]
  },
  {
   "cell_type": "code",
   "execution_count": 564,
   "id": "ebe1654e",
   "metadata": {},
   "outputs": [
    {
     "name": "stdout",
     "output_type": "stream",
     "text": [
      " Multiple Comparison of Means - Tukey HSD, FWER=0.05 \n",
      "=====================================================\n",
      "group1 group2 meandiff p-adj   lower    upper  reject\n",
      "-----------------------------------------------------\n",
      "     a      b      8.4 0.0158   1.4272 15.3728   True\n",
      "     a      c      1.3 0.8864  -5.6728  8.2728  False\n",
      "     b      c     -7.1 0.0453 -14.0728 -0.1272   True\n",
      "-----------------------------------------------------\n"
     ]
    }
   ],
   "source": [
    "# Perform Tukey’s Test\n",
    "# All Pairwise Comparisons Among Means\n",
    "from statsmodels.stats.multicomp import pairwise_tukeyhsd\n",
    "\n",
    "#create DataFrame to hold data\n",
    "df = pd.DataFrame({'score': [85, 86, 88, 75, 78, 94, 98, 79, 71, 80,\n",
    "                             91, 92, 93, 90, 97, 94, 82, 88, 95, 96,\n",
    "                             79, 78, 88, 94, 92, 85, 83, 85, 82, 81],\n",
    "                   'group': np.repeat(['a', 'b', 'c'], repeats=10)}) \n",
    "\n",
    "# perform Tukey's test\n",
    "tukey = pairwise_tukeyhsd(endog=df['score'], groups=df['group'], alpha=0.05)\n",
    "print(tukey)"
   ]
  },
  {
   "cell_type": "code",
   "execution_count": 565,
   "id": "09b28d18",
   "metadata": {},
   "outputs": [
    {
     "name": "stdout",
     "output_type": "stream",
     "text": [
      "The null hypothesis can not be rejected. (Two-tailed prob) p-value 0.08683314570809486\n"
     ]
    }
   ],
   "source": [
    "# Correlated t-test\n",
    "groupOne = pd.Series([1804, 1919, 789, 1533, 990, 1603, 138, 1415, 1665, 434])\n",
    "groupTwo = pd.Series([569, 1635, 767, 1155, 674, 707, 572, 1518, 174, 658])\n",
    "m = 0 # The null hypothesies \n",
    "a = 0.05 # The significance level\n",
    "tails_test = 2  # 1 -> one-tailed prob, 2 -> two-tailed prob\n",
    "\n",
    "diff = []\n",
    "for x in groupOne.index:\n",
    "    xd = groupOne[x] - groupTwo[x]\n",
    "    diff.append(xd)\n",
    "\n",
    "diffOneTwo = pd.Series(diff)\n",
    "sample_mean = diffOneTwo.mean()\n",
    "sample_std = diffOneTwo.std()\n",
    "t_critical = (sample_mean - m) / (sample_std/np.sqrt(groupOne.size))\n",
    "p = 1 - cumulativeAreaStudent(t_critical,groupOne.size)\n",
    "if tails_test == 2 :\n",
    "    if p < a :\n",
    "        print(\"The null hypothesis can be rejected. (Two-tailed prob)\"+ \" p-value {}\".format(p/2))\n",
    "    else:\n",
    "        print(\"The null hypothesis can not be rejected. (Two-tailed prob)\"+ \" p-value {}\".format(p))\n",
    "else:\n",
    "    if (p/2) < a :\n",
    "        print(\"The null hypothesis can be rejected. (One-tailed prob)\"+ \" p-value {}\".format(p/2))\n",
    "    else:\n",
    "        print(\"The null hypothesis can not be rejected. (One-tailed prob)\" + \" p-value {}\".format(p/2))\n",
    "        "
   ]
  },
  {
   "cell_type": "markdown",
   "id": "75f815ca",
   "metadata": {},
   "source": [
    "# Power"
   ]
  },
  {
   "cell_type": "code",
   "execution_count": 566,
   "id": "8e1fc68c",
   "metadata": {},
   "outputs": [
    {
     "name": "stdout",
     "output_type": "stream",
     "text": [
      "The power is 0.33055616881907945\n"
     ]
    }
   ],
   "source": [
    "# The power of an independent t-test\n",
    "from statsmodels.stats.power import TTestIndPower\n",
    "\n",
    "groupOne = pd.Series([1804, 1919, 789, 1533, 990, 1603, 138, 1415, 1665, 434])\n",
    "groupTwo = pd.Series([569, 1635, 767, 1155, 674, 707, 572, 1518, 174, 658])\n",
    "mean_def = groupOne.mean() - groupTwo.mean()\n",
    "est_std = np.sqrt( ( (groupOne.size - 1)*groupOne.std()**2 + (groupTwo.size - 1)*groupTwo.std()**2 ) / (groupOne.size + groupTwo.size - 2) )\n",
    "effect_size = mean_def/est_std\n",
    "nobs1 = groupOne.size\n",
    "alpha = 0.05\n",
    "\n",
    "analysis = TTestIndPower()\n",
    "power = analysis.power(effect_size, nobs1, alpha, ratio=1, df=None, alternative='two-sided')\n",
    "print(\"The power is {}\".format(power))"
   ]
  },
  {
   "cell_type": "code",
   "execution_count": 567,
   "id": "8fd017b8",
   "metadata": {},
   "outputs": [
    {
     "data": {
      "text/plain": [
       "[<matplotlib.lines.Line2D at 0x217c00a5430>]"
      ]
     },
     "execution_count": 567,
     "metadata": {},
     "output_type": "execute_result"
    },
    {
     "data": {
      "image/png": "[encoded data removed]",
      "text/plain": [
       "<Figure size 432x288 with 1 Axes>"
      ]
     },
     "metadata": {
      "needs_background": "light"
     },
     "output_type": "display_data"
    }
   ],
   "source": [
    "# Power versus sample size\n",
    "from statsmodels.stats.power import TTestIndPower\n",
    "\n",
    "groupOne = pd.Series([1804, 1919, 789, 1533, 990, 1603, 138, 1415, 1665, 434])\n",
    "groupTwo = pd.Series([569, 1635, 767, 1155, 674, 707, 572, 1518, 174, 658])\n",
    "mean_def = groupOne.mean() - groupTwo.mean()\n",
    "est_std = np.sqrt( ( (groupOne.size - 1)*groupOne.std()**2 + (groupTwo.size - 1)*groupTwo.std()**2 ) / (groupOne.size + groupTwo.size - 2) )\n",
    "effect_size = mean_def/est_std\n",
    "alpha = 0.05\n",
    "\n",
    "nobs1 = np.arange(2,70)\n",
    "analysis = TTestIndPower()\n",
    "\n",
    "pow = []\n",
    "for x in nobs1:\n",
    "    power = analysis.power(effect_size, x, alpha, ratio=1, df=None, alternative='two-sided')\n",
    "    pow.append(power)\n",
    "plt.plot(nobs1, np.array(pow),\".:k\", ms=8, lw=2)    "
   ]
  },
  {
   "cell_type": "code",
   "execution_count": 568,
   "id": "6e5d519e",
   "metadata": {},
   "outputs": [
    {
     "name": "stdout",
     "output_type": "stream",
     "text": [
      "The sample size is 31.41109476496277\n"
     ]
    }
   ],
   "source": [
    "# The sample size for a power=0.8 of an independent t-test\n",
    "from statsmodels.stats.power import TTestIndPower\n",
    "\n",
    "groupOne = pd.Series([1804, 1919, 789, 1533, 990, 1603, 138, 1415, 1665, 434])\n",
    "groupTwo = pd.Series([569, 1635, 767, 1155, 674, 707, 572, 1518, 174, 658])\n",
    "\n",
    "mean_def = groupOne.mean() - groupTwo.mean()\n",
    "est_std = np.sqrt( ( (groupOne.size - 1)*groupOne.std()**2 + (groupTwo.size - 1)*groupTwo.std()**2 ) / (groupOne.size + groupTwo.size - 2) )\n",
    "effect_size = mean_def/est_std\n",
    "#nobs1 = groupOne.size\n",
    "\n",
    "alpha = 0.05\n",
    "power = 0.8\n",
    "\n",
    "analysis = TTestIndPower()\n",
    "nobs = analysis.solve_power(effect_size=effect_size, nobs1=None, alpha=alpha, power=power, ratio=1.0, alternative='two-sided')\n",
    "print(\"The sample size is {}\".format(nobs))"
   ]
  },
  {
   "cell_type": "markdown",
   "id": "53b8c253",
   "metadata": {},
   "source": [
    "# Anova"
   ]
  },
  {
   "cell_type": "code",
   "execution_count": 569,
   "id": "57e7c4bc",
   "metadata": {},
   "outputs": [
    {
     "name": "stdout",
     "output_type": "stream",
     "text": [
      "The null hypothesis can be rejected. The p_value is 0.01820073122157906\n"
     ]
    },
    {
     "data": {
      "text/plain": [
       "(377.18933823529414,\n",
       " 349.65441176470586,\n",
       " 27.534926470588243,\n",
       " 135,\n",
       " 132,\n",
       " 3,\n",
       " 3.4649548924358102,\n",
       " 2.6732178312584347,\n",
       " 0.01820073122157906)"
      ]
     },
     "execution_count": 569,
     "metadata": {},
     "output_type": "execute_result"
    }
   ],
   "source": [
    "# One-Way anova\n",
    "# All the columns (every sample) has to be in a row \n",
    "\n",
    "data = np.array([[2.5,5.5,6.5,3.5,3,3.5,6,5,4,4.5,5,5.5,3.5,6,6.5,3,8,6.5,8,6,6,3,7,8,4,3,2.5,8,4.5,5.5,7.5,6,9,6.5],\n",
    "[7,3,6,4.5,3.5,4,3,3,3.5,4.5,7,5,5,7.5,2.5,5,5.5,5.5,5,4,5,6.5,6.5,7,3.5,5,3.5,9,2.5,8.5,3.5,4.5,3.5,4.5],\n",
    "[5.5,4,4,5,6,3.5,3.5,3.5,4,5.5,5.5,4.5,2.5,5.5,4.5,3,3.5,8,5,7.5,8,4,5.5,6.5,5,4,3,5,4,4,6,8,4.5,5.5],\n",
    "[2,4,4,3,6,4.5,2,6,3,3,4.5,8,4,5,3.5,4.5,6.5,3.5,4.5,4.5,2.5,2.5,4.5,2.5,6,6,2,4,5.5,4,2.5,2.5,3,6.5]])\n",
    "\n",
    "a = 0.05\n",
    "\n",
    "dataList = pd.DataFrame(np.transpose(data), columns=[\"a\",\"b\",\"c\",\"d\"])\n",
    "grand_mean = dataList.mean().mean()\n",
    "dataListT = dataList.T\n",
    "\n",
    "n = dataList.shape[0]\n",
    "m = dataList.shape[1]\n",
    "sst_d = m*n -1\n",
    "ssw_d = m*(n-1)\n",
    "ssb_d = m-1\n",
    "\n",
    "sst_01 = []\n",
    "ssw_01 = []\n",
    "ssb_01 = []  \n",
    "for x in dataListT.index:\n",
    "    #print(dataList.mean()[x])\n",
    "    for y in dataListT.columns:\n",
    "        z_01 = (dataListT.loc[x,y] - grand_mean)**2  # The square power of each score minus grand mean\n",
    "        z_02 = (dataListT.loc[x,y] - dataList.mean()[x])**2\n",
    "        z_03 = (dataList.mean()[x] - grand_mean)**2\n",
    "        sst_01.append(z_01)\n",
    "        ssw_01.append(z_02)\n",
    "        ssb_01.append(z_03)\n",
    "sst_02 = pd.Series(sst_01)\n",
    "ssw_02 = pd.Series(ssw_01)\n",
    "ssb_02 = pd.Series(ssb_01)\n",
    "sst = sst_02.sum() # THE TOTAL VARIATION as a sum of the square power of each score minus grand mean\n",
    "ssw = ssw_02.sum() # TΗΕ SUM OF SQUARES ERROR\n",
    "ssb = ssb_02.sum() # # THE SUM OF SQUARES CONDITION\n",
    "\n",
    "#sst, ssw, ssb, sst_d, ssw_d, ssb_d\n",
    "dfn = ssb_d\n",
    "dfd = ssw_d\n",
    "f_statistic = (ssb/ssb_d)/(ssw/ssw_d)\n",
    "f_critical = stats.f.isf(a, dfn, dfd, loc=0, scale=1)\n",
    "\n",
    "\n",
    "cdf_left = stats.f.cdf(-f_statistic, dfn, dfd, loc=0, scale=1)\n",
    "cdf_right = stats.f.cdf(f_statistic, dfn, dfd, loc=0, scale=1)\n",
    "p_value =1- cdf_right - cdf_left\n",
    "\n",
    "if f_statistic > f_critical:\n",
    "    print(\"The null hypothesis can be rejected. The p_value is {}\".format(p_value))\n",
    "else:\n",
    "    print(\"The null hypothesis can not be rejected. The p_value is {}\".format(p_value))\n",
    "sst, ssw, ssb, sst_d, ssw_d, ssb_d, f_statistic, f_critical, p_value "
   ]
  },
  {
   "cell_type": "code",
   "execution_count": 570,
   "id": "eb6f466f",
   "metadata": {},
   "outputs": [
    {
     "data": {
      "text/plain": [
       "(ShapiroResult(statistic=0.9524224996566772, pvalue=0.14510247111320496),\n",
       " ShapiroResult(statistic=0.940691351890564, pvalue=0.06464379280805588),\n",
       " ShapiroResult(statistic=0.9276392459869385, pvalue=0.026717307046055794),\n",
       " ShapiroResult(statistic=0.9425297379493713, pvalue=0.07334727048873901))"
      ]
     },
     "execution_count": 570,
     "metadata": {},
     "output_type": "execute_result"
    }
   ],
   "source": [
    "#Test for normality. Normality Test\n",
    "# Shapiro-Wilk normality test \n",
    "import scipy.stats as stats\n",
    "\n",
    "stats.shapiro(dataList.a), stats.shapiro(dataList.b), stats.shapiro(dataList.c), stats.shapiro(dataList.d)\n",
    "# If all p values are greater than threshold a = 0.05,\n",
    "# we \"fail to reject\" the null hypothesis that samples are coming from populations that follow normal distribution"
   ]
  },
  {
   "cell_type": "code",
   "execution_count": 571,
   "id": "8dbbd105",
   "metadata": {},
   "outputs": [
    {
     "data": {
      "text/plain": [
       "LeveneResult(statistic=0.9772270596115206, pvalue=0.40562668588255435)"
      ]
     },
     "execution_count": 571,
     "metadata": {},
     "output_type": "execute_result"
    }
   ],
   "source": [
    "# Test for variance criteria. Variance Test\n",
    "# Levene variance test  \n",
    "stats.levene(dataList.a, dataList.b, dataList.c, dataList.d)\n",
    "# If p value is greater than threshold a = 0.05, \n",
    "# we \"fail to reject\" the null hypothesis that samples come from populations with the same variance."
   ]
  },
  {
   "cell_type": "code",
   "execution_count": 572,
   "id": "fcc9a149",
   "metadata": {},
   "outputs": [],
   "source": [
    "# Test for independent samples. Correlation Test\n",
    "from scipy.stats import pearsonr\n",
    "a = 0.05\n",
    "p_value = []\n",
    "for x in dataList.columns:\n",
    "    for y in dataList.columns:\n",
    "        if x!=y:\n",
    "            stat, p = pearsonr(dataList[x], dataList[y])\n",
    "            p_value.append(p)\n",
    "for x in p_value:\n",
    "    if x<a:\n",
    "        print(\"The condition independent samples is not true\")\n",
    "        break"
   ]
  },
  {
   "cell_type": "code",
   "execution_count": 573,
   "id": "e61e84e2",
   "metadata": {},
   "outputs": [
    {
     "name": "stdout",
     "output_type": "stream",
     "text": [
      "The null hypothesis can be rejected. The p_value is 0.01820073122157926\n"
     ]
    }
   ],
   "source": [
    "#One-way ANOVA\n",
    "a = 0.05\n",
    "F, p = stats.f_oneway(dataList.a, dataList.b, dataList.c, dataList.d)\n",
    "if p < a:\n",
    "    print(\"The null hypothesis can be rejected. The p_value is {}\".format(p))\n",
    "else:\n",
    "    print(\"The null hypothesis can not be rejected. The p_value is {}\".format(p))"
   ]
  },
  {
   "cell_type": "code",
   "execution_count": 574,
   "id": "f032fc57",
   "metadata": {},
   "outputs": [
    {
     "name": "stdout",
     "output_type": "stream",
     "text": [
      "Multiple Comparison of Means - Tukey HSD, FWER=0.05 \n",
      "====================================================\n",
      "group1 group2 meandiff p-adj   lower   upper  reject\n",
      "----------------------------------------------------\n",
      "     a      b  -0.4559 0.6382 -1.4831  0.5713  False\n",
      "     a      c  -0.4559 0.6382 -1.4831  0.5713  False\n",
      "     a      d    -1.25 0.0102 -2.2772 -0.2228   True\n",
      "     b      c      0.0    0.9 -1.0272  1.0272  False\n",
      "     b      d  -0.7941 0.1889 -1.8213  0.2331  False\n",
      "     c      d  -0.7941 0.1889 -1.8213  0.2331  False\n",
      "----------------------------------------------------\n"
     ]
    }
   ],
   "source": [
    "# Perform Tukey’s Test\n",
    "#create DataFrame to hold data\n",
    "df = pd.DataFrame({'score': np.reshape(data,-1),\n",
    "                   'group': np.repeat(['a', 'b', 'c', \"d\"], repeats=34)}) \n",
    "tukey = pairwise_tukeyhsd(endog=df['score'], groups=df['group'], alpha=0.05)\n",
    "print(tukey)\n",
    "#This further indicates that there are statistically significant differences between groups a and d"
   ]
  },
  {
   "cell_type": "markdown",
   "id": "e8d6fac7",
   "metadata": {},
   "source": [
    "# Chi Square test"
   ]
  },
  {
   "cell_type": "code",
   "execution_count": 575,
   "id": "dabed0f3",
   "metadata": {},
   "outputs": [
    {
     "data": {
      "text/plain": [
       "(0.013295545235814032,\n",
       " 0.9707091134651118,\n",
       " 0.02929088653488826,\n",
       " 0.24509870871029799)"
      ]
     },
     "execution_count": 575,
     "metadata": {},
     "output_type": "execute_result"
    }
   ],
   "source": [
    "# Chi square distribution\n",
    "df = 3\n",
    "x = 9\n",
    "q = 0.97\n",
    "Chi_pdf = stats.chi2.pdf(x, df, loc=0, scale=1) # Probability density function\n",
    "Chi_cdf = stats.chi2.cdf(x, df, loc=0, scale=1) # Cumulative distribution function\n",
    "Chi_sf = stats.chi2.sf(x, df, loc=0, scale=1) # Survival function\n",
    "Chi_isf = stats.chi2.isf(q, df, loc=0, scale=1) # Inverse survival function\n",
    "Chi_pdf, Chi_cdf, Chi_sf, Chi_isf"
   ]
  },
  {
   "cell_type": "code",
   "execution_count": 576,
   "id": "bac31a90",
   "metadata": {},
   "outputs": [],
   "source": [
    "# Contingency Tables\n",
    "Women = [10, 14, 10]\n",
    "Men = [11, 8, 4]\n",
    "columns=[\"NS\", \"SS\", \"H\"]\n",
    "index=[\"Women\",\"Men\"]"
   ]
  },
  {
   "cell_type": "code",
   "execution_count": 577,
   "id": "138d9c60",
   "metadata": {},
   "outputs": [
    {
     "data": {
      "text/html": [
       "<div>\n",
       "<style scoped>\n",
       "    .dataframe tbody tr th:only-of-type {\n",
       "        vertical-align: middle;\n",
       "    }\n",
       "\n",
       "    .dataframe tbody tr th {\n",
       "        vertical-align: top;\n",
       "    }\n",
       "\n",
       "    .dataframe thead th {\n",
       "        text-align: right;\n",
       "    }\n",
       "</style>\n",
       "<table border=\"1\" class=\"dataframe\">\n",
       "  <thead>\n",
       "    <tr style=\"text-align: right;\">\n",
       "      <th></th>\n",
       "      <th>NS</th>\n",
       "      <th>SS</th>\n",
       "      <th>H</th>\n",
       "      <th>Total</th>\n",
       "    </tr>\n",
       "  </thead>\n",
       "  <tbody>\n",
       "    <tr>\n",
       "      <th>Women</th>\n",
       "      <td>10</td>\n",
       "      <td>14</td>\n",
       "      <td>10</td>\n",
       "      <td>34</td>\n",
       "    </tr>\n",
       "    <tr>\n",
       "      <th>Men</th>\n",
       "      <td>11</td>\n",
       "      <td>8</td>\n",
       "      <td>4</td>\n",
       "      <td>23</td>\n",
       "    </tr>\n",
       "    <tr>\n",
       "      <th>Total</th>\n",
       "      <td>21</td>\n",
       "      <td>22</td>\n",
       "      <td>14</td>\n",
       "      <td>57</td>\n",
       "    </tr>\n",
       "  </tbody>\n",
       "</table>\n",
       "</div>"
      ],
      "text/plain": [
       "       NS  SS   H  Total\n",
       "Women  10  14  10     34\n",
       "Men    11   8   4     23\n",
       "Total  21  22  14     57"
      ]
     },
     "execution_count": 577,
     "metadata": {},
     "output_type": "execute_result"
    }
   ],
   "source": [
    "Table = pd.DataFrame([Women,Men], columns=[\"NS\", \"SS\", \"H\"], index=[\"Women\",\"Men\"])\n",
    "Total=pd.DataFrame(Table.sum(), columns=[\"Total\"])\n",
    "Table = Table.append(Total.T)\n",
    "Table[\"Total\"] = Table.T.sum()\n",
    "Table"
   ]
  },
  {
   "cell_type": "code",
   "execution_count": 578,
   "id": "7b43198c",
   "metadata": {},
   "outputs": [
    {
     "data": {
      "text/plain": [
       "(0.330367456565817, 2.2150994785265894, 2)"
      ]
     },
     "execution_count": 578,
     "metadata": {},
     "output_type": "execute_result"
    }
   ],
   "source": [
    "EF = [] #Expected Frequencies\n",
    "for i in range(Table.shape[0]-1):\n",
    "    for j in range(Table.shape[1]-1):\n",
    "        EF.append( (Table.Total[i]*Table.iloc[Table.shape[0]-1,j])/Table.Total[Table.shape[0]-1] )\n",
    "\n",
    "        \n",
    "newarr = np.array_split(EF, 2)\n",
    "chi = np.sum( (newarr[0]-Women)**2/newarr[0] ) + np.sum( (newarr[1]-Men)**2/newarr[1] )\n",
    "df = (Table.shape[0]-2)*(Table.shape[1]-2)\n",
    "\n",
    "p_value = stats.chi2.sf(chi, df, loc=0, scale=1)\n",
    "p_value, chi, df"
   ]
  },
  {
   "cell_type": "code",
   "execution_count": 579,
   "id": "040ed9a2",
   "metadata": {},
   "outputs": [
    {
     "data": {
      "text/plain": [
       "Power_divergenceResult(statistic=5.333333333333334, pvalue=0.3765676447089763)"
      ]
     },
     "execution_count": 579,
     "metadata": {},
     "output_type": "execute_result"
    }
   ],
   "source": [
    "# One-way\n",
    "f_obs = [8, 5, 9, 2, 7, 5]\n",
    "f_exp = [6, 6, 6, 6, 6, 6]\n",
    "\n",
    "stats.chisquare(f_obs, f_exp)"
   ]
  }
 ],
 "metadata": {
  "kernelspec": {
   "display_name": "Python 3 (ipykernel)",
   "language": "python",
   "name": "python3"
  },
  "language_info": {
   "codemirror_mode": {
    "name": "ipython",
    "version": 3
   },
   "file_extension": ".py",
   "mimetype": "text/x-python",
   "name": "python",
   "nbconvert_exporter": "python",
   "pygments_lexer": "ipython3",
   "version": "3.9.6"
  }
 },
 "nbformat": 4,
 "nbformat_minor": 5
}
