{
 "cells": [
  {
   "cell_type": "markdown",
   "id": "4a4caf7a",
   "metadata": {},
   "source": [
    "# Population and Murder Rates"
   ]
  },
  {
   "cell_type": "code",
   "execution_count": 70,
   "id": "8e07cdef",
   "metadata": {},
   "outputs": [],
   "source": [
    "state <- read.csv(file=\"/Users/User/Desktop/Hands on machine learning/R statistics/data/state.csv\")"
   ]
  },
  {
   "cell_type": "code",
   "execution_count": 71,
   "id": "60655808",
   "metadata": {},
   "outputs": [
    {
     "data": {
      "image/png": "[encoded data removed]",
      "text/plain": [
       "plot without title"
      ]
     },
     "metadata": {
      "image/png": {
       "height": 420,
       "width": 420
      }
     },
     "output_type": "display_data"
    }
   ],
   "source": [
    "#Scatterplot\n",
    "plot(state$Population, state$Murder.Rate, xlab=\"Population\", ylab=\"Murder Rate\")"
   ]
  },
  {
   "cell_type": "code",
   "execution_count": 72,
   "id": "abe69076",
   "metadata": {},
   "outputs": [
    {
     "data": {
      "image/png": "[encoded data removed]",
      "text/plain": [
       "Plot with title \"\""
      ]
     },
     "metadata": {
      "image/png": {
       "height": 420,
       "width": 420
      }
     },
     "output_type": "display_data"
    }
   ],
   "source": [
    "#Correlation\n",
    "library(corrplot)\n",
    "corr_data <- data.frame(state$Population,state$Murder.Rate)\n",
    "M = cor(corr_data)\n",
    "corrplot(M, method = \"ellipse\")"
   ]
  },
  {
   "cell_type": "code",
   "execution_count": 61,
   "id": "c70ce406",
   "metadata": {},
   "outputs": [
    {
     "data": {
      "text/html": [
       "6162876.3"
      ],
      "text/latex": [
       "6162876.3"
      ],
      "text/markdown": [
       "6162876.3"
      ],
      "text/plain": [
       "[1] 6162876"
      ]
     },
     "metadata": {},
     "output_type": "display_data"
    },
    {
     "data": {
      "text/html": [
       "4783697.125"
      ],
      "text/latex": [
       "4783697.125"
      ],
      "text/markdown": [
       "4783697.125"
      ],
      "text/plain": [
       "[1] 4783697"
      ]
     },
     "metadata": {},
     "output_type": "display_data"
    },
    {
     "data": {
      "text/html": [
       "4436369.5"
      ],
      "text/latex": [
       "4436369.5"
      ],
      "text/markdown": [
       "4436369.5"
      ],
      "text/plain": [
       "[1] 4436370"
      ]
     },
     "metadata": {},
     "output_type": "display_data"
    }
   ],
   "source": [
    "mean(state[[\"Population\"]])\n",
    "mean(state[[\"Population\"]], trim=0.1) # trimmed mean by eliminated the influence of 10% of extreme values \n",
    "median(state[[\"Population\"]])"
   ]
  },
  {
   "cell_type": "code",
   "execution_count": 62,
   "id": "055b43f4",
   "metadata": {},
   "outputs": [
    {
     "data": {
      "text/html": [
       "4.44583398112339"
      ],
      "text/latex": [
       "4.44583398112339"
      ],
      "text/markdown": [
       "4.44583398112339"
      ],
      "text/plain": [
       "[1] 4.445834"
      ]
     },
     "metadata": {},
     "output_type": "display_data"
    }
   ],
   "source": [
    "weighted.mean(state[[\"Murder.Rate\"]], w=state[[\"Population\"]]) "
   ]
  },
  {
   "cell_type": "code",
   "execution_count": 63,
   "id": "af5e5a05",
   "metadata": {},
   "outputs": [
    {
     "data": {
      "text/html": [
       "4.4"
      ],
      "text/latex": [
       "4.4"
      ],
      "text/markdown": [
       "4.4"
      ],
      "text/plain": [
       "[1] 4.4"
      ]
     },
     "metadata": {},
     "output_type": "display_data"
    }
   ],
   "source": [
    "# install.packages(\"matrixStats\")\n",
    "library(\"matrixStats\")\n",
    "weightedMedian(state[[\"Murder.Rate\"]], w=state[[\"Population\"]])\n",
    "# In this case, the weighted mean and median are about the same."
   ]
  },
  {
   "cell_type": "code",
   "execution_count": 64,
   "id": "ced5d8ac",
   "metadata": {},
   "outputs": [
    {
     "data": {
      "text/html": [
       "6848235.34740114"
      ],
      "text/latex": [
       "6848235.34740114"
      ],
      "text/markdown": [
       "6848235.34740114"
      ],
      "text/plain": [
       "[1] 6848235"
      ]
     },
     "metadata": {},
     "output_type": "display_data"
    },
    {
     "data": {
      "text/html": [
       "4847308"
      ],
      "text/latex": [
       "4847308"
      ],
      "text/markdown": [
       "4847308"
      ],
      "text/plain": [
       "[1] 4847308"
      ]
     },
     "metadata": {},
     "output_type": "display_data"
    },
    {
     "data": {
      "text/html": [
       "3849870.3852"
      ],
      "text/latex": [
       "3849870.3852"
      ],
      "text/markdown": [
       "3849870.3852"
      ],
      "text/plain": [
       "[1] 3849870"
      ]
     },
     "metadata": {},
     "output_type": "display_data"
    }
   ],
   "source": [
    "sd(state[[\"Population\"]])\n",
    "IQR(state[[\"Population\"]])\n",
    "mad(state[[\"Population\"]])"
   ]
  },
  {
   "cell_type": "code",
   "execution_count": 65,
   "id": "67cc0226",
   "metadata": {},
   "outputs": [
    {
     "data": {
      "text/html": [
       "<style>\n",
       ".dl-inline {width: auto; margin:0; padding: 0}\n",
       ".dl-inline>dt, .dl-inline>dd {float: none; width: auto; display: inline-block}\n",
       ".dl-inline>dt::after {content: \":\\0020\"; padding-right: .5ex}\n",
       ".dl-inline>dt:not(:first-of-type) {padding-left: .5ex}\n",
       "</style><dl class=dl-inline><dt>5%</dt><dd>1.6</dd><dt>25%</dt><dd>2.425</dd><dt>50%</dt><dd>4</dd><dt>75%</dt><dd>5.55</dd><dt>95%</dt><dd>6.51</dd></dl>\n"
      ],
      "text/latex": [
       "\\begin{description*}\n",
       "\\item[5\\textbackslash{}\\%] 1.6\n",
       "\\item[25\\textbackslash{}\\%] 2.425\n",
       "\\item[50\\textbackslash{}\\%] 4\n",
       "\\item[75\\textbackslash{}\\%] 5.55\n",
       "\\item[95\\textbackslash{}\\%] 6.51\n",
       "\\end{description*}\n"
      ],
      "text/markdown": [
       "5%\n",
       ":   1.625%\n",
       ":   2.42550%\n",
       ":   475%\n",
       ":   5.5595%\n",
       ":   6.51\n",
       "\n"
      ],
      "text/plain": [
       "   5%   25%   50%   75%   95% \n",
       "1.600 2.425 4.000 5.550 6.510 "
      ]
     },
     "metadata": {},
     "output_type": "display_data"
    }
   ],
   "source": [
    "quantile(state[[\"Murder.Rate\"]], p=c(.05, .25, .5, .75, .95))"
   ]
  },
  {
   "cell_type": "code",
   "execution_count": 66,
   "id": "64c9f4fc",
   "metadata": {},
   "outputs": [
    {
     "data": {
      "image/png": "[encoded data removed]",
      "text/plain": [
       "plot without title"
      ]
     },
     "metadata": {
      "image/png": {
       "height": 420,
       "width": 420
      }
     },
     "output_type": "display_data"
    }
   ],
   "source": [
    "boxplot(state[[\"Population\"]]/1000000, ylab=\"Population (millions)\")"
   ]
  },
  {
   "cell_type": "code",
   "execution_count": 67,
   "id": "47786afa",
   "metadata": {},
   "outputs": [
    {
     "data": {
      "text/html": [
       "<style>\n",
       ".list-inline {list-style: none; margin:0; padding: 0}\n",
       ".list-inline>li {display: inline-block}\n",
       ".list-inline>li:not(:last-child)::after {content: \"\\00b7\"; padding: 0 .5ex}\n",
       "</style>\n",
       "<ol class=list-inline><li>563626</li><li>4232659</li><li>7901692</li><li>11570725</li><li>15239758</li><li>18908791</li><li>22577824</li><li>26246857</li><li>29915890</li><li>33584923</li><li>37253956</li></ol>\n"
      ],
      "text/latex": [
       "\\begin{enumerate*}\n",
       "\\item 563626\n",
       "\\item 4232659\n",
       "\\item 7901692\n",
       "\\item 11570725\n",
       "\\item 15239758\n",
       "\\item 18908791\n",
       "\\item 22577824\n",
       "\\item 26246857\n",
       "\\item 29915890\n",
       "\\item 33584923\n",
       "\\item 37253956\n",
       "\\end{enumerate*}\n"
      ],
      "text/markdown": [
       "1. 563626\n",
       "2. 4232659\n",
       "3. 7901692\n",
       "4. 11570725\n",
       "5. 15239758\n",
       "6. 18908791\n",
       "7. 22577824\n",
       "8. 26246857\n",
       "9. 29915890\n",
       "10. 33584923\n",
       "11. 37253956\n",
       "\n",
       "\n"
      ],
      "text/plain": [
       " [1]   563626  4232659  7901692 11570725 15239758 18908791 22577824 26246857\n",
       " [9] 29915890 33584923 37253956"
      ]
     },
     "metadata": {},
     "output_type": "display_data"
    }
   ],
   "source": [
    "breaks <- seq(from=min(state[[\"Population\"]]),\n",
    "to=max(state[[\"Population\"]]), length=11)\n",
    "breaks"
   ]
  },
  {
   "cell_type": "code",
   "execution_count": 68,
   "id": "ecfcffc3",
   "metadata": {},
   "outputs": [
    {
     "data": {
      "image/png": "[encoded data removed]",
      "text/plain": [
       "Plot with title \"Histogram of state[[\"Population\"]]\""
      ]
     },
     "metadata": {
      "image/png": {
       "height": 420,
       "width": 420
      }
     },
     "output_type": "display_data"
    }
   ],
   "source": [
    "hist(state[[\"Population\"]])"
   ]
  },
  {
   "cell_type": "code",
   "execution_count": 69,
   "id": "79ec7638",
   "metadata": {},
   "outputs": [
    {
     "data": {
      "image/png": "[encoded data removed]",
      "text/plain": [
       "Plot with title \"Histogram of state[[\"Murder.Rate\"]]\""
      ]
     },
     "metadata": {
      "image/png": {
       "height": 420,
       "width": 420
      }
     },
     "output_type": "display_data"
    }
   ],
   "source": [
    "hist(state[[\"Murder.Rate\"]], freq=FALSE)\n",
    "lines(density(state[[\"Murder.Rate\"]]), lwd=3, col=\"blue\")"
   ]
  },
  {
   "cell_type": "code",
   "execution_count": 37,
   "id": "15bcb8d8",
   "metadata": {},
   "outputs": [
    {
     "data": {
      "text/html": [
       "<table class=\"dataframe\">\n",
       "<caption>A data.frame: 1 × 5</caption>\n",
       "<thead>\n",
       "\t<tr><th scope=col>Carrier</th><th scope=col>ATC</th><th scope=col>Weather</th><th scope=col>Security</th><th scope=col>Inbound</th></tr>\n",
       "\t<tr><th scope=col>&lt;dbl&gt;</th><th scope=col>&lt;dbl&gt;</th><th scope=col>&lt;dbl&gt;</th><th scope=col>&lt;dbl&gt;</th><th scope=col>&lt;dbl&gt;</th></tr>\n",
       "</thead>\n",
       "<tbody>\n",
       "\t<tr><td>64263.16</td><td>84856.5</td><td>11235.42</td><td>343.15</td><td>118427.8</td></tr>\n",
       "</tbody>\n",
       "</table>\n"
      ],
      "text/latex": [
       "A data.frame: 1 × 5\n",
       "\\begin{tabular}{lllll}\n",
       " Carrier & ATC & Weather & Security & Inbound\\\\\n",
       " <dbl> & <dbl> & <dbl> & <dbl> & <dbl>\\\\\n",
       "\\hline\n",
       "\t 64263.16 & 84856.5 & 11235.42 & 343.15 & 118427.8\\\\\n",
       "\\end{tabular}\n"
      ],
      "text/markdown": [
       "\n",
       "A data.frame: 1 × 5\n",
       "\n",
       "| Carrier &lt;dbl&gt; | ATC &lt;dbl&gt; | Weather &lt;dbl&gt; | Security &lt;dbl&gt; | Inbound &lt;dbl&gt; |\n",
       "|---|---|---|---|---|\n",
       "| 64263.16 | 84856.5 | 11235.42 | 343.15 | 118427.8 |\n",
       "\n"
      ],
      "text/plain": [
       "  Carrier  ATC     Weather  Security Inbound \n",
       "1 64263.16 84856.5 11235.42 343.15   118427.8"
      ]
     },
     "metadata": {},
     "output_type": "display_data"
    }
   ],
   "source": [
    "dfw <- read.csv(file=\"/Users/User/Desktop/Hands on machine learning/R statistics/data/dfw_airline.csv\")"
   ]
  },
  {
   "cell_type": "code",
   "execution_count": 27,
   "id": "cdc5aecd",
   "metadata": {},
   "outputs": [
    {
     "data": {
      "image/png": "[encoded data removed]",
      "text/plain": [
       "plot without title"
      ]
     },
     "metadata": {
      "image/png": {
       "height": 420,
       "width": 420
      }
     },
     "output_type": "display_data"
    }
   ],
   "source": [
    "barplot(as.matrix(dfw)/6, cex.axis=.5)"
   ]
  },
  {
   "cell_type": "code",
   "execution_count": 73,
   "id": "bdc65782",
   "metadata": {},
   "outputs": [],
   "source": []
  },
  {
   "cell_type": "code",
   "execution_count": 77,
   "id": "ad921d0e",
   "metadata": {},
   "outputs": [],
   "source": []
  },
  {
   "cell_type": "code",
   "execution_count": null,
   "id": "539cb6f9",
   "metadata": {},
   "outputs": [],
   "source": []
  },
  {
   "cell_type": "code",
   "execution_count": null,
   "id": "d7916231",
   "metadata": {},
   "outputs": [],
   "source": []
  }
 ],
 "metadata": {
  "kernelspec": {
   "display_name": "R",
   "language": "R",
   "name": "ir"
  },
  "language_info": {
   "codemirror_mode": "r",
   "file_extension": ".r",
   "mimetype": "text/x-r-source",
   "name": "R",
   "pygments_lexer": "r",
   "version": "4.1.0"
  }
 },
 "nbformat": 4,
 "nbformat_minor": 5
}
